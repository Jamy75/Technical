{
 "cells": [
  {
   "cell_type": "code",
   "execution_count": 1,
   "id": "acd62a78",
   "metadata": {},
   "outputs": [],
   "source": [
    "import pandas as pd\n",
    "import matplotlib.pyplot as plt"
   ]
  },
  {
   "cell_type": "code",
   "execution_count": 2,
   "id": "2844b239",
   "metadata": {},
   "outputs": [],
   "source": [
    "# Lecture du fichier CSV\n",
    "data = pd.read_csv('measurements.csv')"
   ]
  },
  {
   "cell_type": "code",
   "execution_count": 3,
   "id": "f7914b6f",
   "metadata": {},
   "outputs": [
    {
     "data": {
      "text/html": [
       "<div>\n",
       "<style scoped>\n",
       "    .dataframe tbody tr th:only-of-type {\n",
       "        vertical-align: middle;\n",
       "    }\n",
       "\n",
       "    .dataframe tbody tr th {\n",
       "        vertical-align: top;\n",
       "    }\n",
       "\n",
       "    .dataframe thead th {\n",
       "        text-align: right;\n",
       "    }\n",
       "</style>\n",
       "<table border=\"1\" class=\"dataframe\">\n",
       "  <thead>\n",
       "    <tr style=\"text-align: right;\">\n",
       "      <th></th>\n",
       "      <th>distance</th>\n",
       "      <th>consume</th>\n",
       "      <th>speed</th>\n",
       "      <th>temp_inside</th>\n",
       "      <th>temp_outside</th>\n",
       "      <th>specials</th>\n",
       "      <th>gas_type</th>\n",
       "      <th>AC</th>\n",
       "      <th>rain</th>\n",
       "      <th>sun</th>\n",
       "      <th>refill liters</th>\n",
       "      <th>refill gas</th>\n",
       "    </tr>\n",
       "  </thead>\n",
       "  <tbody>\n",
       "    <tr>\n",
       "      <th>0</th>\n",
       "      <td>28</td>\n",
       "      <td>5</td>\n",
       "      <td>26</td>\n",
       "      <td>21,5</td>\n",
       "      <td>12</td>\n",
       "      <td>NaN</td>\n",
       "      <td>E10</td>\n",
       "      <td>0</td>\n",
       "      <td>0</td>\n",
       "      <td>0</td>\n",
       "      <td>45</td>\n",
       "      <td>E10</td>\n",
       "    </tr>\n",
       "    <tr>\n",
       "      <th>1</th>\n",
       "      <td>12</td>\n",
       "      <td>4,2</td>\n",
       "      <td>30</td>\n",
       "      <td>21,5</td>\n",
       "      <td>13</td>\n",
       "      <td>NaN</td>\n",
       "      <td>E10</td>\n",
       "      <td>0</td>\n",
       "      <td>0</td>\n",
       "      <td>0</td>\n",
       "      <td>NaN</td>\n",
       "      <td>NaN</td>\n",
       "    </tr>\n",
       "    <tr>\n",
       "      <th>2</th>\n",
       "      <td>11,2</td>\n",
       "      <td>5,5</td>\n",
       "      <td>38</td>\n",
       "      <td>21,5</td>\n",
       "      <td>15</td>\n",
       "      <td>NaN</td>\n",
       "      <td>E10</td>\n",
       "      <td>0</td>\n",
       "      <td>0</td>\n",
       "      <td>0</td>\n",
       "      <td>NaN</td>\n",
       "      <td>NaN</td>\n",
       "    </tr>\n",
       "    <tr>\n",
       "      <th>3</th>\n",
       "      <td>12,9</td>\n",
       "      <td>3,9</td>\n",
       "      <td>36</td>\n",
       "      <td>21,5</td>\n",
       "      <td>14</td>\n",
       "      <td>NaN</td>\n",
       "      <td>E10</td>\n",
       "      <td>0</td>\n",
       "      <td>0</td>\n",
       "      <td>0</td>\n",
       "      <td>NaN</td>\n",
       "      <td>NaN</td>\n",
       "    </tr>\n",
       "    <tr>\n",
       "      <th>4</th>\n",
       "      <td>18,5</td>\n",
       "      <td>4,5</td>\n",
       "      <td>46</td>\n",
       "      <td>21,5</td>\n",
       "      <td>15</td>\n",
       "      <td>NaN</td>\n",
       "      <td>E10</td>\n",
       "      <td>0</td>\n",
       "      <td>0</td>\n",
       "      <td>0</td>\n",
       "      <td>NaN</td>\n",
       "      <td>NaN</td>\n",
       "    </tr>\n",
       "    <tr>\n",
       "      <th>...</th>\n",
       "      <td>...</td>\n",
       "      <td>...</td>\n",
       "      <td>...</td>\n",
       "      <td>...</td>\n",
       "      <td>...</td>\n",
       "      <td>...</td>\n",
       "      <td>...</td>\n",
       "      <td>...</td>\n",
       "      <td>...</td>\n",
       "      <td>...</td>\n",
       "      <td>...</td>\n",
       "      <td>...</td>\n",
       "    </tr>\n",
       "    <tr>\n",
       "      <th>383</th>\n",
       "      <td>16</td>\n",
       "      <td>3,7</td>\n",
       "      <td>39</td>\n",
       "      <td>24,5</td>\n",
       "      <td>18</td>\n",
       "      <td>NaN</td>\n",
       "      <td>SP98</td>\n",
       "      <td>0</td>\n",
       "      <td>0</td>\n",
       "      <td>0</td>\n",
       "      <td>NaN</td>\n",
       "      <td>NaN</td>\n",
       "    </tr>\n",
       "    <tr>\n",
       "      <th>384</th>\n",
       "      <td>16,1</td>\n",
       "      <td>4,3</td>\n",
       "      <td>38</td>\n",
       "      <td>25</td>\n",
       "      <td>31</td>\n",
       "      <td>AC</td>\n",
       "      <td>SP98</td>\n",
       "      <td>1</td>\n",
       "      <td>0</td>\n",
       "      <td>0</td>\n",
       "      <td>NaN</td>\n",
       "      <td>NaN</td>\n",
       "    </tr>\n",
       "    <tr>\n",
       "      <th>385</th>\n",
       "      <td>16</td>\n",
       "      <td>3,8</td>\n",
       "      <td>45</td>\n",
       "      <td>25</td>\n",
       "      <td>19</td>\n",
       "      <td>NaN</td>\n",
       "      <td>SP98</td>\n",
       "      <td>0</td>\n",
       "      <td>0</td>\n",
       "      <td>0</td>\n",
       "      <td>NaN</td>\n",
       "      <td>NaN</td>\n",
       "    </tr>\n",
       "    <tr>\n",
       "      <th>386</th>\n",
       "      <td>15,4</td>\n",
       "      <td>4,6</td>\n",
       "      <td>42</td>\n",
       "      <td>25</td>\n",
       "      <td>31</td>\n",
       "      <td>AC</td>\n",
       "      <td>SP98</td>\n",
       "      <td>1</td>\n",
       "      <td>0</td>\n",
       "      <td>0</td>\n",
       "      <td>NaN</td>\n",
       "      <td>NaN</td>\n",
       "    </tr>\n",
       "    <tr>\n",
       "      <th>387</th>\n",
       "      <td>14,7</td>\n",
       "      <td>5</td>\n",
       "      <td>25</td>\n",
       "      <td>25</td>\n",
       "      <td>30</td>\n",
       "      <td>AC</td>\n",
       "      <td>SP98</td>\n",
       "      <td>1</td>\n",
       "      <td>0</td>\n",
       "      <td>0</td>\n",
       "      <td>NaN</td>\n",
       "      <td>NaN</td>\n",
       "    </tr>\n",
       "  </tbody>\n",
       "</table>\n",
       "<p>388 rows × 12 columns</p>\n",
       "</div>"
      ],
      "text/plain": [
       "    distance consume  speed temp_inside  temp_outside specials gas_type  AC  \\\n",
       "0         28       5     26        21,5            12      NaN      E10   0   \n",
       "1         12     4,2     30        21,5            13      NaN      E10   0   \n",
       "2       11,2     5,5     38        21,5            15      NaN      E10   0   \n",
       "3       12,9     3,9     36        21,5            14      NaN      E10   0   \n",
       "4       18,5     4,5     46        21,5            15      NaN      E10   0   \n",
       "..       ...     ...    ...         ...           ...      ...      ...  ..   \n",
       "383       16     3,7     39        24,5            18      NaN     SP98   0   \n",
       "384     16,1     4,3     38          25            31       AC     SP98   1   \n",
       "385       16     3,8     45          25            19      NaN     SP98   0   \n",
       "386     15,4     4,6     42          25            31       AC     SP98   1   \n",
       "387     14,7       5     25          25            30       AC     SP98   1   \n",
       "\n",
       "     rain  sun refill liters refill gas  \n",
       "0       0    0            45        E10  \n",
       "1       0    0           NaN        NaN  \n",
       "2       0    0           NaN        NaN  \n",
       "3       0    0           NaN        NaN  \n",
       "4       0    0           NaN        NaN  \n",
       "..    ...  ...           ...        ...  \n",
       "383     0    0           NaN        NaN  \n",
       "384     0    0           NaN        NaN  \n",
       "385     0    0           NaN        NaN  \n",
       "386     0    0           NaN        NaN  \n",
       "387     0    0           NaN        NaN  \n",
       "\n",
       "[388 rows x 12 columns]"
      ]
     },
     "execution_count": 3,
     "metadata": {},
     "output_type": "execute_result"
    }
   ],
   "source": [
    "data"
   ]
  },
  {
   "cell_type": "code",
   "execution_count": 4,
   "id": "ae9366ac",
   "metadata": {
    "scrolled": true
   },
   "outputs": [
    {
     "data": {
      "text/html": [
       "<div>\n",
       "<style scoped>\n",
       "    .dataframe tbody tr th:only-of-type {\n",
       "        vertical-align: middle;\n",
       "    }\n",
       "\n",
       "    .dataframe tbody tr th {\n",
       "        vertical-align: top;\n",
       "    }\n",
       "\n",
       "    .dataframe thead th {\n",
       "        text-align: right;\n",
       "    }\n",
       "</style>\n",
       "<table border=\"1\" class=\"dataframe\">\n",
       "  <thead>\n",
       "    <tr style=\"text-align: right;\">\n",
       "      <th></th>\n",
       "      <th>distance</th>\n",
       "      <th>consume</th>\n",
       "      <th>speed</th>\n",
       "      <th>temp_inside</th>\n",
       "      <th>temp_outside</th>\n",
       "      <th>specials</th>\n",
       "      <th>gas_type</th>\n",
       "      <th>AC</th>\n",
       "      <th>rain</th>\n",
       "      <th>sun</th>\n",
       "      <th>refill liters</th>\n",
       "      <th>refill gas</th>\n",
       "    </tr>\n",
       "  </thead>\n",
       "  <tbody>\n",
       "    <tr>\n",
       "      <th>383</th>\n",
       "      <td>16</td>\n",
       "      <td>3,7</td>\n",
       "      <td>39</td>\n",
       "      <td>24,5</td>\n",
       "      <td>18</td>\n",
       "      <td>NaN</td>\n",
       "      <td>SP98</td>\n",
       "      <td>0</td>\n",
       "      <td>0</td>\n",
       "      <td>0</td>\n",
       "      <td>NaN</td>\n",
       "      <td>NaN</td>\n",
       "    </tr>\n",
       "    <tr>\n",
       "      <th>384</th>\n",
       "      <td>16,1</td>\n",
       "      <td>4,3</td>\n",
       "      <td>38</td>\n",
       "      <td>25</td>\n",
       "      <td>31</td>\n",
       "      <td>AC</td>\n",
       "      <td>SP98</td>\n",
       "      <td>1</td>\n",
       "      <td>0</td>\n",
       "      <td>0</td>\n",
       "      <td>NaN</td>\n",
       "      <td>NaN</td>\n",
       "    </tr>\n",
       "    <tr>\n",
       "      <th>385</th>\n",
       "      <td>16</td>\n",
       "      <td>3,8</td>\n",
       "      <td>45</td>\n",
       "      <td>25</td>\n",
       "      <td>19</td>\n",
       "      <td>NaN</td>\n",
       "      <td>SP98</td>\n",
       "      <td>0</td>\n",
       "      <td>0</td>\n",
       "      <td>0</td>\n",
       "      <td>NaN</td>\n",
       "      <td>NaN</td>\n",
       "    </tr>\n",
       "    <tr>\n",
       "      <th>386</th>\n",
       "      <td>15,4</td>\n",
       "      <td>4,6</td>\n",
       "      <td>42</td>\n",
       "      <td>25</td>\n",
       "      <td>31</td>\n",
       "      <td>AC</td>\n",
       "      <td>SP98</td>\n",
       "      <td>1</td>\n",
       "      <td>0</td>\n",
       "      <td>0</td>\n",
       "      <td>NaN</td>\n",
       "      <td>NaN</td>\n",
       "    </tr>\n",
       "    <tr>\n",
       "      <th>387</th>\n",
       "      <td>14,7</td>\n",
       "      <td>5</td>\n",
       "      <td>25</td>\n",
       "      <td>25</td>\n",
       "      <td>30</td>\n",
       "      <td>AC</td>\n",
       "      <td>SP98</td>\n",
       "      <td>1</td>\n",
       "      <td>0</td>\n",
       "      <td>0</td>\n",
       "      <td>NaN</td>\n",
       "      <td>NaN</td>\n",
       "    </tr>\n",
       "  </tbody>\n",
       "</table>\n",
       "</div>"
      ],
      "text/plain": [
       "    distance consume  speed temp_inside  temp_outside specials gas_type  AC  \\\n",
       "383       16     3,7     39        24,5            18      NaN     SP98   0   \n",
       "384     16,1     4,3     38          25            31       AC     SP98   1   \n",
       "385       16     3,8     45          25            19      NaN     SP98   0   \n",
       "386     15,4     4,6     42          25            31       AC     SP98   1   \n",
       "387     14,7       5     25          25            30       AC     SP98   1   \n",
       "\n",
       "     rain  sun refill liters refill gas  \n",
       "383     0    0           NaN        NaN  \n",
       "384     0    0           NaN        NaN  \n",
       "385     0    0           NaN        NaN  \n",
       "386     0    0           NaN        NaN  \n",
       "387     0    0           NaN        NaN  "
      ]
     },
     "execution_count": 4,
     "metadata": {},
     "output_type": "execute_result"
    }
   ],
   "source": [
    "data.tail()"
   ]
  },
  {
   "cell_type": "code",
   "execution_count": 38,
   "id": "95f9af28",
   "metadata": {
    "scrolled": false
   },
   "outputs": [
    {
     "data": {
      "text/plain": [
       "388"
      ]
     },
     "execution_count": 38,
     "metadata": {},
     "output_type": "execute_result"
    }
   ],
   "source": [
    "len(data)"
   ]
  },
  {
   "cell_type": "code",
   "execution_count": 42,
   "id": "3ec25dea",
   "metadata": {},
   "outputs": [
    {
     "data": {
      "text/plain": [
       "<bound method NDFrame._add_numeric_operations.<locals>.sum of      distance  consume  speed  temp_inside  temp_outside  specials  gas_type  \\\n",
       "0       False    False  False        False         False      True     False   \n",
       "1       False    False  False        False         False      True     False   \n",
       "2       False    False  False        False         False      True     False   \n",
       "3       False    False  False        False         False      True     False   \n",
       "4       False    False  False        False         False      True     False   \n",
       "..        ...      ...    ...          ...           ...       ...       ...   \n",
       "383     False    False  False        False         False      True     False   \n",
       "384     False    False  False        False         False     False     False   \n",
       "385     False    False  False        False         False      True     False   \n",
       "386     False    False  False        False         False     False     False   \n",
       "387     False    False  False        False         False     False     False   \n",
       "\n",
       "        AC   rain    sun  refill liters  refill gas  \n",
       "0    False  False  False          False       False  \n",
       "1    False  False  False           True        True  \n",
       "2    False  False  False           True        True  \n",
       "3    False  False  False           True        True  \n",
       "4    False  False  False           True        True  \n",
       "..     ...    ...    ...            ...         ...  \n",
       "383  False  False  False           True        True  \n",
       "384  False  False  False           True        True  \n",
       "385  False  False  False           True        True  \n",
       "386  False  False  False           True        True  \n",
       "387  False  False  False           True        True  \n",
       "\n",
       "[388 rows x 12 columns]>"
      ]
     },
     "execution_count": 42,
     "metadata": {},
     "output_type": "execute_result"
    }
   ],
   "source": [
    "data.isna().sum"
   ]
  },
  {
   "cell_type": "code",
   "execution_count": 49,
   "id": "741b79ac",
   "metadata": {},
   "outputs": [
    {
     "name": "stdout",
     "output_type": "stream",
     "text": [
      "(<class 'str'>, <class 'str'>)\n"
     ]
    }
   ],
   "source": [
    "data_type = type('rain'), type('gas_type')\n",
    "print(data_type)"
   ]
  },
  {
   "cell_type": "code",
   "execution_count": 50,
   "id": "51809b5f",
   "metadata": {},
   "outputs": [],
   "source": [
    "df = pd.DataFrame(data)"
   ]
  },
  {
   "cell_type": "markdown",
   "id": "b7e4094f",
   "metadata": {},
   "source": [
    "### List Distance"
   ]
  },
  {
   "cell_type": "code",
   "execution_count": 51,
   "id": "5f0f4d47",
   "metadata": {},
   "outputs": [],
   "source": [
    "# Access the 'the' column\n",
    "columndistance = 'distance'\n",
    "column_values = df[columndistance]"
   ]
  },
  {
   "cell_type": "code",
   "execution_count": 52,
   "id": "cc45696d",
   "metadata": {
    "scrolled": true
   },
   "outputs": [
    {
     "name": "stdout",
     "output_type": "stream",
     "text": [
      "['1,3', '1,7', '10,1', '10,2', '10,5', '10,6', '10,8', '100,9', '101,9', '11,2', '11,3', '11,5', '11,6', '11,7', '11,8', '11,9', '12', '12,1', '12,2', '12,3', '12,4', '12,5', '12,6', '12,7', '12,8', '12,9', '129,7', '13', '13,1', '13,2', '13,3', '13,4', '13,6', '13,9', '130,3', '14', '14,1', '14,2', '14,3', '14,5', '14,7', '15,3', '15,4', '15,7', '15,9', '153,5', '16', '16,1', '16,2', '16,3', '16,4', '16,5', '16,6', '16,7', '16,8', '16,9', '162,7', '17', '17,2', '17,3', '17,4', '17,9', '18,1', '18,3', '18,4', '18,5', '18,7', '18,8', '18,9', '19', '19,6', '19,8', '2', '2,1', '2,4', '2,9', '20', '20,1', '20,6', '20,8', '20,9', '21', '21,1', '21,4', '21,5', '21,6', '211', '216,1', '22,1', '22,2', '22,4', '22,7', '22,9', '23,5', '24,5', '24,7', '24,8', '24,9', '25,2', '25,3', '25,5', '25,7', '25,9', '26,2', '26,6', '27,1', '27,3', '28', '28,2', '28,5', '28,8', '29', '29,9', '31,1', '31,4', '31,5', '31,8', '31,9', '32', '32,1', '32,6', '33,4', '34,8', '35,8', '35,9', '36,5', '36,6', '36,9', '37,2', '38,5', '38,6', '39', '39,4', '39,5', '4,1', '4,2', '4,5', '4,8', '4,9', '40,6', '41,9', '43,5', '43,7', '44,4', '44,9', '48,6', '5,1', '5,2', '5,3', '5,4', '5,5', '51,6', '53,2', '56,1', '58,7', '6', '6,1', '6,4', '6,6', '6,7', '6,8', '67,2', '7', '7,4', '7,8', '7,9', '8,3', '8,7', '81,2', '9,2', '9,7', '9,8', '9,9', '93,9']\n"
     ]
    }
   ],
   "source": [
    "distance_type = df[columndistance].unique()\n",
    "#print(distance_type)\n",
    "sorted_distance = sorted(distance_type)\n",
    "print(sorted_distance)"
   ]
  },
  {
   "cell_type": "code",
   "execution_count": 33,
   "id": "06f00e40",
   "metadata": {},
   "outputs": [
    {
     "data": {
      "text/plain": [
       "['1,3',\n",
       " '1,7',\n",
       " '2',\n",
       " '2,1',\n",
       " '2,4',\n",
       " '2,9',\n",
       " '4,1',\n",
       " '4,2',\n",
       " '4,5',\n",
       " '4,8',\n",
       " '4,9',\n",
       " '5,1',\n",
       " '5,2',\n",
       " '5,3',\n",
       " '5,4',\n",
       " '5,5',\n",
       " '6',\n",
       " '6,1',\n",
       " '6,4',\n",
       " '6,6',\n",
       " '6,7',\n",
       " '6,8',\n",
       " '7',\n",
       " '7,4',\n",
       " '7,8',\n",
       " '7,9',\n",
       " '8,3',\n",
       " '8,7',\n",
       " '9,2',\n",
       " '9,7',\n",
       " '9,8',\n",
       " '9,9',\n",
       " '10,1',\n",
       " '10,2',\n",
       " '10,5',\n",
       " '10,6',\n",
       " '10,8',\n",
       " '11,2',\n",
       " '11,3',\n",
       " '11,5',\n",
       " '11,6',\n",
       " '11,7',\n",
       " '11,8',\n",
       " '11,9',\n",
       " '12',\n",
       " '12,1',\n",
       " '12,2',\n",
       " '12,3',\n",
       " '12,4',\n",
       " '12,5',\n",
       " '12,6',\n",
       " '12,7',\n",
       " '12,8',\n",
       " '12,9',\n",
       " '13',\n",
       " '13,1',\n",
       " '13,2',\n",
       " '13,3',\n",
       " '13,4',\n",
       " '13,6',\n",
       " '13,9',\n",
       " '14',\n",
       " '14,1',\n",
       " '14,2',\n",
       " '14,3',\n",
       " '14,5',\n",
       " '14,7',\n",
       " '15,3',\n",
       " '15,4',\n",
       " '15,7',\n",
       " '15,9',\n",
       " '16',\n",
       " '16,1',\n",
       " '16,2',\n",
       " '16,3',\n",
       " '16,4',\n",
       " '16,5',\n",
       " '16,6',\n",
       " '16,7',\n",
       " '16,8',\n",
       " '16,9',\n",
       " '17',\n",
       " '17,2',\n",
       " '17,3',\n",
       " '17,4',\n",
       " '17,9',\n",
       " '18,1',\n",
       " '18,3',\n",
       " '18,4',\n",
       " '18,5',\n",
       " '18,7',\n",
       " '18,8',\n",
       " '18,9',\n",
       " '19',\n",
       " '19,6',\n",
       " '19,8',\n",
       " '20',\n",
       " '20,1',\n",
       " '20,6',\n",
       " '20,8',\n",
       " '20,9',\n",
       " '21',\n",
       " '21,1',\n",
       " '21,4',\n",
       " '21,5',\n",
       " '21,6',\n",
       " '22,1',\n",
       " '22,2',\n",
       " '22,4',\n",
       " '22,7',\n",
       " '22,9',\n",
       " '23,5',\n",
       " '24,5',\n",
       " '24,7',\n",
       " '24,8',\n",
       " '24,9',\n",
       " '25,2',\n",
       " '25,3',\n",
       " '25,5',\n",
       " '25,7',\n",
       " '25,9',\n",
       " '26,2',\n",
       " '26,6',\n",
       " '27,1',\n",
       " '27,3',\n",
       " '28',\n",
       " '28,2',\n",
       " '28,5',\n",
       " '28,8',\n",
       " '29',\n",
       " '29,9',\n",
       " '31,1',\n",
       " '31,4',\n",
       " '31,5',\n",
       " '31,8',\n",
       " '31,9',\n",
       " '32',\n",
       " '32,1',\n",
       " '32,6',\n",
       " '33,4',\n",
       " '34,8',\n",
       " '35,8',\n",
       " '35,9',\n",
       " '36,5',\n",
       " '36,6',\n",
       " '36,9',\n",
       " '37,2',\n",
       " '38,5',\n",
       " '38,6',\n",
       " '39',\n",
       " '39,4',\n",
       " '39,5',\n",
       " '40,6',\n",
       " '41,9',\n",
       " '43,5',\n",
       " '43,7',\n",
       " '44,4',\n",
       " '44,9',\n",
       " '48,6',\n",
       " '51,6',\n",
       " '53,2',\n",
       " '56,1',\n",
       " '58,7',\n",
       " '67,2',\n",
       " '81,2',\n",
       " '93,9',\n",
       " '100,9',\n",
       " '101,9',\n",
       " '129,7',\n",
       " '130,3',\n",
       " '153,5',\n",
       " '162,7',\n",
       " '211',\n",
       " '216,1']"
      ]
     },
     "execution_count": 33,
     "metadata": {},
     "output_type": "execute_result"
    }
   ],
   "source": [
    "# Sorte it in a relevant way\n",
    "distance_type = df[columndistance].unique()\n",
    "sorted_distance = sorted(distance_type, key=lambda x: float(x.replace(',', '.')))\n",
    "sorted_distance#[1:4]"
   ]
  },
  {
   "cell_type": "code",
   "execution_count": 35,
   "id": "41765a88",
   "metadata": {},
   "outputs": [
    {
     "name": "stdout",
     "output_type": "stream",
     "text": [
      "['1,3', '1,7', '2', '2,1', '2,4', '2,9']\n"
     ]
    }
   ],
   "source": [
    "filtered_distance = [distance for distance in sorted_distance if 1 <= float(distance.replace(',', '.')) <= 4]\n",
    "print(filtered_distance)"
   ]
  },
  {
   "cell_type": "markdown",
   "id": "9063903f",
   "metadata": {},
   "source": [
    "### List of consume"
   ]
  },
  {
   "cell_type": "code",
   "execution_count": 9,
   "id": "3e51ce4e",
   "metadata": {
    "scrolled": true
   },
   "outputs": [
    {
     "data": {
      "text/plain": [
       "array(['5', '4,2', '5,5', '3,9', '4,5', '6,4', '4,4', '5,3', '5,6', '4,6',\n",
       "       '5,9', '5,1', '4,7', '4,9', '5,7', '4,1', '5,8', '4,8', '4,3',\n",
       "       '5,2', '7,4', '6,5', '4', '3,3', '9,9', '6,1', '6,2', '7,9',\n",
       "       '12,2', '5,4', '3,6', '6,9', '8,7', '6,3', '6', '10,8', '8,1',\n",
       "       '7,1', '3,8', '9', '3,7', '11,5', '6,6'], dtype=object)"
      ]
     },
     "execution_count": 9,
     "metadata": {},
     "output_type": "execute_result"
    }
   ],
   "source": [
    "# Access the 'the' column\n",
    "columnconsume = 'consume'\n",
    "column_values = df[columnconsume]\n",
    "consume_type = df[columnconsume].unique()\n",
    "consume_type"
   ]
  },
  {
   "cell_type": "code",
   "execution_count": 37,
   "id": "981fa3e4",
   "metadata": {},
   "outputs": [
    {
     "data": {
      "image/png": "[encoded data removed]",
      "text/plain": [
       "<Figure size 640x480 with 1 Axes>"
      ]
     },
     "metadata": {},
     "output_type": "display_data"
    }
   ],
   "source": [
    "ax = df.plot(x='distance', y='consume', kind='scatter', title='Distance and consume')\n",
    "\n",
    "ax.set_xlim(1, 10)\n",
    "ax.set_ylim(1, 10)\n",
    "\n",
    "# Display the plot\n",
    "plt.show()"
   ]
  },
  {
   "cell_type": "markdown",
   "id": "cb526fe6",
   "metadata": {},
   "source": [
    "### list of GAZ"
   ]
  },
  {
   "cell_type": "code",
   "execution_count": 11,
   "id": "5858f0fa",
   "metadata": {},
   "outputs": [],
   "source": [
    "# Access the 'the' column\n",
    "columngas = 'gas_type'\n",
    "column_values = df[columngas]"
   ]
  },
  {
   "cell_type": "code",
   "execution_count": 12,
   "id": "ed414283",
   "metadata": {},
   "outputs": [
    {
     "data": {
      "text/plain": [
       "array(['E10', 'SP98'], dtype=object)"
      ]
     },
     "execution_count": 12,
     "metadata": {},
     "output_type": "execute_result"
    }
   ],
   "source": [
    "gas_type = df[columngas].unique()\n",
    "gas_type"
   ]
  },
  {
   "cell_type": "markdown",
   "id": "cc831d95",
   "metadata": {},
   "source": [
    "### List of temperature inside"
   ]
  },
  {
   "cell_type": "code",
   "execution_count": 13,
   "id": "09886539",
   "metadata": {},
   "outputs": [],
   "source": [
    "columntemp = 'temp_outside'"
   ]
  },
  {
   "cell_type": "code",
   "execution_count": 14,
   "id": "10060455",
   "metadata": {},
   "outputs": [
    {
     "name": "stdout",
     "output_type": "stream",
     "text": [
      "[-5, -3, 0, 1, 2, 3, 4, 5, 6, 7, 8, 9, 10, 11, 12, 13, 14, 15, 16, 17, 18, 19, 20, 21, 22, 23, 24, 25, 26, 27, 28, 30, 31]\n"
     ]
    }
   ],
   "source": [
    "temp_type = df[columntemp].unique()\n",
    "sorted_temp = sorted(temp_type)\n",
    "print(sorted_temp)"
   ]
  },
  {
   "cell_type": "markdown",
   "id": "11ae3807",
   "metadata": {},
   "source": [
    "### List of Distance"
   ]
  },
  {
   "cell_type": "code",
   "execution_count": 15,
   "id": "a84fd937",
   "metadata": {},
   "outputs": [],
   "source": [
    "colum_distance = 'distance'"
   ]
  },
  {
   "cell_type": "code",
   "execution_count": 19,
   "id": "941b30aa",
   "metadata": {},
   "outputs": [
    {
     "name": "stdout",
     "output_type": "stream",
     "text": [
      "['1,3', '1,7', '2', '2,1', '2,4', '2,9', '4,1', '4,2', '4,5', '4,8', '4,9', '5,1', '5,2', '5,3', '5,4', '5,5', '6', '6,1', '6,4', '6,6', '6,7', '6,8', '7', '7,4', '7,8', '7,9', '8,3', '8,7', '9,2', '9,7', '9,8', '9,9', '10,1', '10,2', '10,5', '10,6', '10,8', '11,2', '11,3', '11,5', '11,6', '11,7', '11,8', '11,9', '12', '12,1', '12,2', '12,3', '12,4', '12,5', '12,6', '12,7', '12,8', '12,9', '13', '13,1', '13,2', '13,3', '13,4', '13,6', '13,9', '14', '14,1', '14,2', '14,3', '14,5', '14,7', '15,3', '15,4', '15,7', '15,9', '16', '16,1', '16,2', '16,3', '16,4', '16,5', '16,6', '16,7', '16,8', '16,9', '17', '17,2', '17,3', '17,4', '17,9', '18,1', '18,3', '18,4', '18,5', '18,7', '18,8', '18,9', '19', '19,6', '19,8', '20', '20,1', '20,6', '20,8', '20,9', '21', '21,1', '21,4', '21,5', '21,6', '22,1', '22,2', '22,4', '22,7', '22,9', '23,5', '24,5', '24,7', '24,8', '24,9', '25,2', '25,3', '25,5', '25,7', '25,9', '26,2', '26,6', '27,1', '27,3', '28', '28,2', '28,5', '28,8', '29', '29,9', '31,1', '31,4', '31,5', '31,8', '31,9', '32', '32,1', '32,6', '33,4', '34,8', '35,8', '35,9', '36,5', '36,6', '36,9', '37,2', '38,5', '38,6', '39', '39,4', '39,5', '40,6', '41,9', '43,5', '43,7', '44,4', '44,9', '48,6', '51,6', '53,2', '56,1', '58,7', '67,2', '81,2', '93,9', '100,9', '101,9', '129,7', '130,3', '153,5', '162,7', '211', '216,1']\n"
     ]
    }
   ],
   "source": [
    "temp_type = df[colum_distance].unique()\n",
    "sorted_distance = sorted(temp_type, key=lambda x:float(x.replace(',', '.')))\n",
    "print(sorted_distance)"
   ]
  },
  {
   "cell_type": "code",
   "execution_count": 53,
   "id": "899b6f9c",
   "metadata": {},
   "outputs": [
    {
     "ename": "SyntaxError",
     "evalue": "invalid syntax (1735739315.py, line 1)",
     "output_type": "error",
     "traceback": [
      "\u001b[0;36m  Cell \u001b[0;32mIn[53], line 1\u001b[0;36m\u001b[0m\n\u001b[0;31m    https://www.example.com/path/to/file.ipynb\u001b[0m\n\u001b[0m          ^\u001b[0m\n\u001b[0;31mSyntaxError\u001b[0m\u001b[0;31m:\u001b[0m invalid syntax\n"
     ]
    }
   ],
   "source": [
    "https://www.example.com/path/to/file.ipynb"
   ]
  },
  {
   "cell_type": "code",
   "execution_count": null,
   "id": "a1bbe413",
   "metadata": {},
   "outputs": [],
   "source": []
  },
  {
   "cell_type": "code",
   "execution_count": null,
   "id": "ebbfb8bc",
   "metadata": {},
   "outputs": [],
   "source": []
  },
  {
   "cell_type": "code",
   "execution_count": null,
   "id": "68b7aaeb",
   "metadata": {},
   "outputs": [],
   "source": []
  }
 ],
 "metadata": {
  "kernelspec": {
   "display_name": "Python 3 (ipykernel)",
   "language": "python",
   "name": "python3"
  },
  "language_info": {
   "codemirror_mode": {
    "name": "ipython",
    "version": 3
   },
   "file_extension": ".py",
   "mimetype": "text/x-python",
   "name": "python",
   "nbconvert_exporter": "python",
   "pygments_lexer": "ipython3",
   "version": "3.10.9"
  }
 },
 "nbformat": 4,
 "nbformat_minor": 5
}
